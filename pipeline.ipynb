{
 "cells": [
  {
   "cell_type": "markdown",
   "metadata": {},
   "source": [
    "# Problem Description"
   ]
  },
  {
   "cell_type": "markdown",
   "metadata": {},
   "source": [
    "We want to predict a category of product based on its title, description and other parameters.\n",
    "\n",
    "## Data\n",
    "\n",
    "**categories_tree.csv** - file with a category tree of marketplace. Each category has an id, title, and parent_id, which can be used to restore the full path of the category.\n",
    "\n",
    "**train.parquet** - file with marketplace products.\n",
    "Each product has:\n",
    "\n",
    "* *id*\n",
    "* *title*\n",
    "* *name_value_characteristics* - name:value of a product characteristic. Can be several for each product and for each characteristic.\n",
    "* *rating* - average product rating\n",
    "* *feedback_quantity* - number of product reviews\n",
    "* *category_id* - product category (target)\n",
    "\n",
    "**test.parquet** - file, which is identical to train.parquet, but without a real category_id, which is exactly what we have to predict.\n",
    "\n",
    "## Metric\n",
    "\n",
    "Predicting the leaf category of a product may seem like a trivial task, but the path to the leaf category is important to us. For incorrectly predicted leaf categories, we want to increase score if the parent categories were predicted correctly at different levels.\n",
    "\n",
    "We are going to use a modified F1-metric weighted by the sample size of the class (only leaf categories are taken into account when calculating):\n",
    "$$ hP = \\frac{\\sum_i |\\hat{P_i} \\cap \\hat{T_i}|}{\\sum_i |\\hat{P_i}|} $$\n",
    "$$ hR = \\frac{\\sum_i |\\hat{P_i} \\cap \\hat{T_i}|}{\\sum_i |\\hat{T_i}|} $$\n",
    "$$ hF = \\frac{2 * hP * hR}{hP + hR} $$\n",
    "* $P_i$ is a set consisting of predicted categories for each i_th sample and the corresponding ancestor categories\n",
    "* $T_i$ is a set consisting of true categories for each i_th sample and the corresponding ancestor categories\n",
    "* $hP$ - hierarchical precision\n",
    "* $hR$ - hierarchical recall\n",
    "* $hF$ - hierarchical F1-score\n",
    "\n",
    "This metric was taken from the following paper:\n",
    "https://www.cs.kent.ac.uk/people/staff/aaf/pub_papers.dir/DMKD-J-2010-Silla.pdf"
   ]
  },
  {
   "cell_type": "markdown",
   "metadata": {},
   "source": [
    "# Prerequisites"
   ]
  },
  {
   "cell_type": "code",
   "execution_count": null,
   "metadata": {
    "execution": {
     "iopub.execute_input": "2022-06-19T17:49:33.165433Z",
     "iopub.status.busy": "2022-06-19T17:49:33.164965Z",
     "iopub.status.idle": "2022-06-19T17:49:53.509672Z",
     "shell.execute_reply": "2022-06-19T17:49:53.508599Z",
     "shell.execute_reply.started": "2022-06-19T17:49:33.165353Z"
    },
    "id": "ENeowl6ke15j",
    "outputId": "5d02f4b6-7479-4f7e-c57f-e97254cccb35"
   },
   "outputs": [],
   "source": [
    "!pip install transformers\n",
    "!pip install datasets"
   ]
  },
  {
   "cell_type": "code",
   "execution_count": null,
   "metadata": {
    "execution": {
     "iopub.execute_input": "2022-06-19T17:49:53.517299Z",
     "iopub.status.busy": "2022-06-19T17:49:53.514814Z",
     "iopub.status.idle": "2022-06-19T17:50:05.422312Z",
     "shell.execute_reply": "2022-06-19T17:50:05.421347Z",
     "shell.execute_reply.started": "2022-06-19T17:49:53.517255Z"
    }
   },
   "outputs": [],
   "source": [
    "!wget https://www.dropbox.com/s/0kcg8bd19384frb/categories_tree.csv?dl=0 -O categories_tree.csv\n",
    "!wget https://www.dropbox.com/s/vmq48wfgoddhkeq/test.parquet?dl=0 -O test.parquet\n",
    "!wget https://www.dropbox.com/s/1l4xihgg7ezsivk/train.parquet?dl=0 -O train.parquet"
   ]
  },
  {
   "cell_type": "code",
   "execution_count": 98,
   "metadata": {
    "execution": {
     "iopub.execute_input": "2022-06-20T00:47:41.641515Z",
     "iopub.status.busy": "2022-06-20T00:47:41.641167Z",
     "iopub.status.idle": "2022-06-20T00:47:41.672553Z",
     "shell.execute_reply": "2022-06-20T00:47:41.669548Z",
     "shell.execute_reply.started": "2022-06-20T00:47:41.641484Z"
    },
    "id": "dc1a942f",
    "outputId": "ee9f3611-bd46-47ee-bdb6-6d629766bf35"
   },
   "outputs": [
    {
     "data": {
      "text/plain": [
       "'cuda'"
      ]
     },
     "execution_count": 98,
     "metadata": {},
     "output_type": "execute_result"
    }
   ],
   "source": [
    "import pandas as pd\n",
    "import numpy as np\n",
    "\n",
    "from datasets import Dataset, DatasetDict, load_metric\n",
    "from transformers import AutoModelForSequenceClassification, AutoTokenizer, AutoModel, DataCollatorWithPadding, \\\n",
    "                         AutoConfig, Trainer, TrainingArguments, AdamW, get_scheduler\n",
    "from transformers.modeling_outputs import TokenClassifierOutput\n",
    "import torch\n",
    "import torch.nn as nn\n",
    "from torch.utils.data import DataLoader\n",
    "from tqdm.auto import tqdm\n",
    "from sklearn.model_selection import train_test_split\n",
    "\n",
    "import matplotlib.pyplot as plt\n",
    "%matplotlib inline\n",
    "plt.rcParams['figure.figsize'] = (16, 8)\n",
    "\n",
    "SEED = 228\n",
    "DEVICE = 'cuda' if torch.cuda.is_available() else 'cpu'\n",
    "DEVICE"
   ]
  },
  {
   "cell_type": "markdown",
   "metadata": {},
   "source": [
    "# Category Tree Processing"
   ]
  },
  {
   "cell_type": "code",
   "execution_count": 5,
   "metadata": {
    "execution": {
     "iopub.execute_input": "2022-06-19T17:50:42.628713Z",
     "iopub.status.busy": "2022-06-19T17:50:42.628292Z",
     "iopub.status.idle": "2022-06-19T17:50:42.663501Z",
     "shell.execute_reply": "2022-06-19T17:50:42.662684Z",
     "shell.execute_reply.started": "2022-06-19T17:50:42.628671Z"
    },
    "id": "885f81cc",
    "outputId": "48f5f29f-fcbc-4fd6-fc77-f4b083efdea7"
   },
   "outputs": [
    {
     "name": "stdout",
     "output_type": "stream",
     "text": [
      "<class 'pandas.core.frame.DataFrame'>\n",
      "RangeIndex: 3370 entries, 0 to 3369\n",
      "Data columns (total 3 columns):\n",
      " #   Column     Non-Null Count  Dtype \n",
      "---  ------     --------------  ----- \n",
      " 0   id         3370 non-null   int64 \n",
      " 1   title      3370 non-null   object\n",
      " 2   parent_id  3370 non-null   int64 \n",
      "dtypes: int64(2), object(1)\n",
      "memory usage: 79.1+ KB\n"
     ]
    }
   ],
   "source": [
    "categories_tree = pd.read_csv('./categories_tree.csv')\n",
    "categories_tree.info()"
   ]
  },
  {
   "cell_type": "markdown",
   "metadata": {},
   "source": [
    "Since further we're gonna predict final categories of tree, we're gonna need some utility function to be able to reconstruct the whole tree path to this category."
   ]
  },
  {
   "cell_type": "code",
   "execution_count": 6,
   "metadata": {
    "execution": {
     "iopub.execute_input": "2022-06-19T17:50:42.665497Z",
     "iopub.status.busy": "2022-06-19T17:50:42.664918Z",
     "iopub.status.idle": "2022-06-19T17:50:42.671724Z",
     "shell.execute_reply": "2022-06-19T17:50:42.670847Z",
     "shell.execute_reply.started": "2022-06-19T17:50:42.665458Z"
    },
    "id": "7a57d916"
   },
   "outputs": [],
   "source": [
    "def get_path(category_id):\n",
    "    path = []\n",
    "    while category_id:\n",
    "        path.append(int(categories_tree[categories_tree['id'] == category_id]['id']))\n",
    "        category_id = int(categories_tree[categories_tree['id'] == category_id]['parent_id'])\n",
    "    return path[::-1]"
   ]
  },
  {
   "cell_type": "markdown",
   "metadata": {},
   "source": [
    "# Dataset Preprocessing"
   ]
  },
  {
   "cell_type": "code",
   "execution_count": 7,
   "metadata": {
    "execution": {
     "iopub.execute_input": "2022-06-19T17:50:42.675723Z",
     "iopub.status.busy": "2022-06-19T17:50:42.675254Z",
     "iopub.status.idle": "2022-06-19T17:50:43.256193Z",
     "shell.execute_reply": "2022-06-19T17:50:43.255324Z",
     "shell.execute_reply.started": "2022-06-19T17:50:42.675694Z"
    },
    "id": "a0c82b25",
    "outputId": "98d2cfc4-701a-4e28-ad0d-0edd578c5e3f"
   },
   "outputs": [
    {
     "name": "stdout",
     "output_type": "stream",
     "text": [
      "<class 'pandas.core.frame.DataFrame'>\n",
      "RangeIndex: 283452 entries, 0 to 283451\n",
      "Data columns (total 7 columns):\n",
      " #   Column                      Non-Null Count   Dtype  \n",
      "---  ------                      --------------   -----  \n",
      " 0   id                          283452 non-null  int64  \n",
      " 1   title                       283452 non-null  object \n",
      " 2   short_description           133130 non-null  object \n",
      " 3   name_value_characteristics  50360 non-null   object \n",
      " 4   rating                      283452 non-null  float64\n",
      " 5   feedback_quantity           283452 non-null  int64  \n",
      " 6   category_id                 283452 non-null  int64  \n",
      "dtypes: float64(1), int64(3), object(3)\n",
      "memory usage: 15.1+ MB\n"
     ]
    }
   ],
   "source": [
    "df_raw = pd.read_parquet('train.parquet')\n",
    "df_raw.info()"
   ]
  },
  {
   "cell_type": "markdown",
   "metadata": {},
   "source": [
    "Step 0: little analysis. Let's check target distribution."
   ]
  },
  {
   "cell_type": "code",
   "execution_count": 97,
   "metadata": {
    "execution": {
     "iopub.execute_input": "2022-06-20T00:46:12.919354Z",
     "iopub.status.busy": "2022-06-20T00:46:12.919017Z",
     "iopub.status.idle": "2022-06-20T00:46:12.930958Z",
     "shell.execute_reply": "2022-06-20T00:46:12.929915Z",
     "shell.execute_reply.started": "2022-06-20T00:46:12.919324Z"
    }
   },
   "outputs": [
    {
     "data": {
      "text/plain": [
       "11937    14967\n",
       "13408     7153\n",
       "13061     6434\n",
       "13143     6145\n",
       "13253     3390\n",
       "         ...  \n",
       "13756        2\n",
       "13007        2\n",
       "2598         2\n",
       "11917        2\n",
       "13787        2\n",
       "Name: category_id, Length: 1231, dtype: int64"
      ]
     },
     "execution_count": 97,
     "metadata": {},
     "output_type": "execute_result"
    }
   ],
   "source": [
    "df_raw['category_id'].value_counts()"
   ]
  },
  {
   "cell_type": "code",
   "execution_count": 108,
   "metadata": {
    "execution": {
     "iopub.execute_input": "2022-06-20T00:54:00.587855Z",
     "iopub.status.busy": "2022-06-20T00:54:00.587396Z",
     "iopub.status.idle": "2022-06-20T00:54:01.166485Z",
     "shell.execute_reply": "2022-06-20T00:54:01.165672Z",
     "shell.execute_reply.started": "2022-06-20T00:54:00.587814Z"
    }
   },
   "outputs": [
    {
     "data": {
      "image/png": "[encoded data removed]",
      "text/plain": [
       "<Figure size 1152x576 with 1 Axes>"
      ]
     },
     "metadata": {
      "needs_background": "light"
     },
     "output_type": "display_data"
    }
   ],
   "source": [
    "plt.hist(df_raw['category_id'].value_counts().values, bins=100)\n",
    "plt.title('Target Distribution')\n",
    "plt.xlabel('Number Of Objects In Category')\n",
    "plt.ylabel('Number Of Categories')\n",
    "plt.grid()\n",
    "plt.show()"
   ]
  },
  {
   "cell_type": "markdown",
   "metadata": {},
   "source": [
    "As we can see, data has significant imbalance of classes. Let's note this fact and move further.\n",
    "\n",
    "First, let's join our text features into one."
   ]
  },
  {
   "cell_type": "code",
   "execution_count": 8,
   "metadata": {
    "execution": {
     "iopub.execute_input": "2022-06-19T17:50:43.258057Z",
     "iopub.status.busy": "2022-06-19T17:50:43.257542Z",
     "iopub.status.idle": "2022-06-19T17:50:43.470320Z",
     "shell.execute_reply": "2022-06-19T17:50:43.469488Z",
     "shell.execute_reply.started": "2022-06-19T17:50:43.258019Z"
    },
    "id": "2137aa03",
    "outputId": "7246c73a-6032-41b2-f097-b57092e17391"
   },
   "outputs": [
    {
     "data": {
      "text/html": [
       "<div>\n",
       "<style scoped>\n",
       "    .dataframe tbody tr th:only-of-type {\n",
       "        vertical-align: middle;\n",
       "    }\n",
       "\n",
       "    .dataframe tbody tr th {\n",
       "        vertical-align: top;\n",
       "    }\n",
       "\n",
       "    .dataframe thead th {\n",
       "        text-align: right;\n",
       "    }\n",
       "</style>\n",
       "<table border=\"1\" class=\"dataframe\">\n",
       "  <thead>\n",
       "    <tr style=\"text-align: right;\">\n",
       "      <th></th>\n",
       "      <th>id</th>\n",
       "      <th>title</th>\n",
       "      <th>short_description</th>\n",
       "      <th>name_value_characteristics</th>\n",
       "      <th>rating</th>\n",
       "      <th>feedback_quantity</th>\n",
       "      <th>category_id</th>\n",
       "      <th>corpus</th>\n",
       "    </tr>\n",
       "  </thead>\n",
       "  <tbody>\n",
       "    <tr>\n",
       "      <th>0</th>\n",
       "      <td>1267423</td>\n",
       "      <td>Muhle Manikure Песочные колпачки для педикюра ...</td>\n",
       "      <td>Muhle Manikure Колпачок песочный шлифовальный ...</td>\n",
       "      <td></td>\n",
       "      <td>0.000000</td>\n",
       "      <td>0</td>\n",
       "      <td>2693</td>\n",
       "      <td>Muhle Manikure Песочные колпачки для педикюра ...</td>\n",
       "    </tr>\n",
       "    <tr>\n",
       "      <th>1</th>\n",
       "      <td>128833</td>\n",
       "      <td>Sony Xperia L1 Защитное стекло 2,5D</td>\n",
       "      <td></td>\n",
       "      <td></td>\n",
       "      <td>4.666667</td>\n",
       "      <td>9</td>\n",
       "      <td>13408</td>\n",
       "      <td>Sony Xperia L1 Защитное стекло 2,5D.</td>\n",
       "    </tr>\n",
       "    <tr>\n",
       "      <th>2</th>\n",
       "      <td>569924</td>\n",
       "      <td>Конверт для денег Прекрасная роза, 16,5 х 8 см</td>\n",
       "      <td>Конверт для денег «Прекрасная роза», 16,5 × 8 см</td>\n",
       "      <td></td>\n",
       "      <td>5.000000</td>\n",
       "      <td>6</td>\n",
       "      <td>11790</td>\n",
       "      <td>Конверт для денег Прекрасная роза, 16,5 х 8 см...</td>\n",
       "    </tr>\n",
       "    <tr>\n",
       "      <th>3</th>\n",
       "      <td>1264824</td>\n",
       "      <td>Серьги</td>\n",
       "      <td></td>\n",
       "      <td></td>\n",
       "      <td>0.000000</td>\n",
       "      <td>0</td>\n",
       "      <td>14076</td>\n",
       "      <td>Серьги.</td>\n",
       "    </tr>\n",
       "    <tr>\n",
       "      <th>4</th>\n",
       "      <td>1339052</td>\n",
       "      <td>Наклейки на унитаз для туалета на крышку бачок...</td>\n",
       "      <td>Водостойкая, интересная наклейка на унитаз раз...</td>\n",
       "      <td></td>\n",
       "      <td>0.000000</td>\n",
       "      <td>0</td>\n",
       "      <td>12401</td>\n",
       "      <td>Наклейки на унитаз для туалета на крышку бачок...</td>\n",
       "    </tr>\n",
       "    <tr>\n",
       "      <th>...</th>\n",
       "      <td>...</td>\n",
       "      <td>...</td>\n",
       "      <td>...</td>\n",
       "      <td>...</td>\n",
       "      <td>...</td>\n",
       "      <td>...</td>\n",
       "      <td>...</td>\n",
       "      <td>...</td>\n",
       "    </tr>\n",
       "    <tr>\n",
       "      <th>283447</th>\n",
       "      <td>584544</td>\n",
       "      <td>Эфирное масло аромамасло 20мл</td>\n",
       "      <td>Аромамаркетинг – это мощный инструмент по созд...</td>\n",
       "      <td>Выберите аромат:Ваниль|Персик|Холл гостиницы|Н...</td>\n",
       "      <td>4.500000</td>\n",
       "      <td>6</td>\n",
       "      <td>2674</td>\n",
       "      <td>Эфирное масло аромамасло 20мл.Аромамаркетинг –...</td>\n",
       "    </tr>\n",
       "    <tr>\n",
       "      <th>283448</th>\n",
       "      <td>1229689</td>\n",
       "      <td>Форма для выпечки печенья \"Орешки\"</td>\n",
       "      <td>Орешки со сгущенкой, форма для приготовления.</td>\n",
       "      <td></td>\n",
       "      <td>5.000000</td>\n",
       "      <td>1</td>\n",
       "      <td>13554</td>\n",
       "      <td>Форма для выпечки печенья \"Орешки\".Орешки со с...</td>\n",
       "    </tr>\n",
       "    <tr>\n",
       "      <th>283449</th>\n",
       "      <td>904913</td>\n",
       "      <td>Магнит символ Нового года-Тигренок/(по 3 шт в уп)</td>\n",
       "      <td></td>\n",
       "      <td></td>\n",
       "      <td>5.000000</td>\n",
       "      <td>1</td>\n",
       "      <td>11617</td>\n",
       "      <td>Магнит символ Нового года-Тигренок/(по 3 шт в ...</td>\n",
       "    </tr>\n",
       "    <tr>\n",
       "      <th>283450</th>\n",
       "      <td>1413201</td>\n",
       "      <td>Рифленный нож / слайсер для фигурной нарезки, ...</td>\n",
       "      <td>Такими ножами удобно резать фрукты, овощи, сыр...</td>\n",
       "      <td>Вид:19,5х6 см</td>\n",
       "      <td>0.000000</td>\n",
       "      <td>0</td>\n",
       "      <td>14030</td>\n",
       "      <td>Рифленный нож / слайсер для фигурной нарезки, ...</td>\n",
       "    </tr>\n",
       "    <tr>\n",
       "      <th>283451</th>\n",
       "      <td>129638</td>\n",
       "      <td>Набор воздушных шариков (5 шт в упаковке)</td>\n",
       "      <td></td>\n",
       "      <td></td>\n",
       "      <td>4.672414</td>\n",
       "      <td>58</td>\n",
       "      <td>12604</td>\n",
       "      <td>Набор воздушных шариков (5 шт в упаковке).</td>\n",
       "    </tr>\n",
       "  </tbody>\n",
       "</table>\n",
       "<p>283452 rows × 8 columns</p>\n",
       "</div>"
      ],
      "text/plain": [
       "             id                                              title  \\\n",
       "0       1267423  Muhle Manikure Песочные колпачки для педикюра ...   \n",
       "1        128833                Sony Xperia L1 Защитное стекло 2,5D   \n",
       "2        569924     Конверт для денег Прекрасная роза, 16,5 х 8 см   \n",
       "3       1264824                                             Серьги   \n",
       "4       1339052  Наклейки на унитаз для туалета на крышку бачок...   \n",
       "...         ...                                                ...   \n",
       "283447   584544                      Эфирное масло аромамасло 20мл   \n",
       "283448  1229689                 Форма для выпечки печенья \"Орешки\"   \n",
       "283449   904913  Магнит символ Нового года-Тигренок/(по 3 шт в уп)   \n",
       "283450  1413201  Рифленный нож / слайсер для фигурной нарезки, ...   \n",
       "283451   129638          Набор воздушных шариков (5 шт в упаковке)   \n",
       "\n",
       "                                        short_description  \\\n",
       "0       Muhle Manikure Колпачок песочный шлифовальный ...   \n",
       "1                                                           \n",
       "2        Конверт для денег «Прекрасная роза», 16,5 × 8 см   \n",
       "3                                                           \n",
       "4       Водостойкая, интересная наклейка на унитаз раз...   \n",
       "...                                                   ...   \n",
       "283447  Аромамаркетинг – это мощный инструмент по созд...   \n",
       "283448      Орешки со сгущенкой, форма для приготовления.   \n",
       "283449                                                      \n",
       "283450  Такими ножами удобно резать фрукты, овощи, сыр...   \n",
       "283451                                                      \n",
       "\n",
       "                               name_value_characteristics    rating  \\\n",
       "0                                                          0.000000   \n",
       "1                                                          4.666667   \n",
       "2                                                          5.000000   \n",
       "3                                                          0.000000   \n",
       "4                                                          0.000000   \n",
       "...                                                   ...       ...   \n",
       "283447  Выберите аромат:Ваниль|Персик|Холл гостиницы|Н...  4.500000   \n",
       "283448                                                     5.000000   \n",
       "283449                                                     5.000000   \n",
       "283450                                      Вид:19,5х6 см  0.000000   \n",
       "283451                                                     4.672414   \n",
       "\n",
       "        feedback_quantity  category_id  \\\n",
       "0                       0         2693   \n",
       "1                       9        13408   \n",
       "2                       6        11790   \n",
       "3                       0        14076   \n",
       "4                       0        12401   \n",
       "...                   ...          ...   \n",
       "283447                  6         2674   \n",
       "283448                  1        13554   \n",
       "283449                  1        11617   \n",
       "283450                  0        14030   \n",
       "283451                 58        12604   \n",
       "\n",
       "                                                   corpus  \n",
       "0       Muhle Manikure Песочные колпачки для педикюра ...  \n",
       "1                    Sony Xperia L1 Защитное стекло 2,5D.  \n",
       "2       Конверт для денег Прекрасная роза, 16,5 х 8 см...  \n",
       "3                                                 Серьги.  \n",
       "4       Наклейки на унитаз для туалета на крышку бачок...  \n",
       "...                                                   ...  \n",
       "283447  Эфирное масло аромамасло 20мл.Аромамаркетинг –...  \n",
       "283448  Форма для выпечки печенья \"Орешки\".Орешки со с...  \n",
       "283449  Магнит символ Нового года-Тигренок/(по 3 шт в ...  \n",
       "283450  Рифленный нож / слайсер для фигурной нарезки, ...  \n",
       "283451         Набор воздушных шариков (5 шт в упаковке).  \n",
       "\n",
       "[283452 rows x 8 columns]"
      ]
     },
     "execution_count": 8,
     "metadata": {},
     "output_type": "execute_result"
    }
   ],
   "source": [
    "df_raw.fillna(value = '', inplace = True)\n",
    "df_raw['corpus'] = df_raw['title'] + '.' + df_raw['short_description'] # '.' so the nlp model could see the seperation of two parts\n",
    "df_raw"
   ]
  },
  {
   "cell_type": "markdown",
   "metadata": {},
   "source": [
    "Let's make our life easier and assume that all necessary information is concentrated in text features. This assumption allows us to (at least, at a rough guess) drop all numerical features and give nlp model complete freedom of decision-making."
   ]
  },
  {
   "cell_type": "code",
   "execution_count": 9,
   "metadata": {
    "execution": {
     "iopub.execute_input": "2022-06-19T17:50:43.471885Z",
     "iopub.status.busy": "2022-06-19T17:50:43.471486Z",
     "iopub.status.idle": "2022-06-19T17:50:43.555371Z",
     "shell.execute_reply": "2022-06-19T17:50:43.554541Z",
     "shell.execute_reply.started": "2022-06-19T17:50:43.471847Z"
    },
    "id": "fa2e2ce6",
    "outputId": "bf17e5f4-a469-4ab9-a12a-4207c725e09e"
   },
   "outputs": [
    {
     "data": {
      "text/html": [
       "<div>\n",
       "<style scoped>\n",
       "    .dataframe tbody tr th:only-of-type {\n",
       "        vertical-align: middle;\n",
       "    }\n",
       "\n",
       "    .dataframe tbody tr th {\n",
       "        vertical-align: top;\n",
       "    }\n",
       "\n",
       "    .dataframe thead th {\n",
       "        text-align: right;\n",
       "    }\n",
       "</style>\n",
       "<table border=\"1\" class=\"dataframe\">\n",
       "  <thead>\n",
       "    <tr style=\"text-align: right;\">\n",
       "      <th></th>\n",
       "      <th>corpus</th>\n",
       "      <th>label</th>\n",
       "    </tr>\n",
       "  </thead>\n",
       "  <tbody>\n",
       "    <tr>\n",
       "      <th>0</th>\n",
       "      <td>Muhle Manikure Песочные колпачки для педикюра ...</td>\n",
       "      <td>2693</td>\n",
       "    </tr>\n",
       "    <tr>\n",
       "      <th>1</th>\n",
       "      <td>Sony Xperia L1 Защитное стекло 2,5D.</td>\n",
       "      <td>13408</td>\n",
       "    </tr>\n",
       "    <tr>\n",
       "      <th>2</th>\n",
       "      <td>Конверт для денег Прекрасная роза, 16,5 х 8 см...</td>\n",
       "      <td>11790</td>\n",
       "    </tr>\n",
       "    <tr>\n",
       "      <th>3</th>\n",
       "      <td>Серьги.</td>\n",
       "      <td>14076</td>\n",
       "    </tr>\n",
       "    <tr>\n",
       "      <th>4</th>\n",
       "      <td>Наклейки на унитаз для туалета на крышку бачок...</td>\n",
       "      <td>12401</td>\n",
       "    </tr>\n",
       "    <tr>\n",
       "      <th>...</th>\n",
       "      <td>...</td>\n",
       "      <td>...</td>\n",
       "    </tr>\n",
       "    <tr>\n",
       "      <th>283447</th>\n",
       "      <td>Эфирное масло аромамасло 20мл.Аромамаркетинг –...</td>\n",
       "      <td>2674</td>\n",
       "    </tr>\n",
       "    <tr>\n",
       "      <th>283448</th>\n",
       "      <td>Форма для выпечки печенья \"Орешки\".Орешки со с...</td>\n",
       "      <td>13554</td>\n",
       "    </tr>\n",
       "    <tr>\n",
       "      <th>283449</th>\n",
       "      <td>Магнит символ Нового года-Тигренок/(по 3 шт в ...</td>\n",
       "      <td>11617</td>\n",
       "    </tr>\n",
       "    <tr>\n",
       "      <th>283450</th>\n",
       "      <td>Рифленный нож / слайсер для фигурной нарезки, ...</td>\n",
       "      <td>14030</td>\n",
       "    </tr>\n",
       "    <tr>\n",
       "      <th>283451</th>\n",
       "      <td>Набор воздушных шариков (5 шт в упаковке).</td>\n",
       "      <td>12604</td>\n",
       "    </tr>\n",
       "  </tbody>\n",
       "</table>\n",
       "<p>283452 rows × 2 columns</p>\n",
       "</div>"
      ],
      "text/plain": [
       "                                                   corpus  label\n",
       "0       Muhle Manikure Песочные колпачки для педикюра ...   2693\n",
       "1                    Sony Xperia L1 Защитное стекло 2,5D.  13408\n",
       "2       Конверт для денег Прекрасная роза, 16,5 х 8 см...  11790\n",
       "3                                                 Серьги.  14076\n",
       "4       Наклейки на унитаз для туалета на крышку бачок...  12401\n",
       "...                                                   ...    ...\n",
       "283447  Эфирное масло аромамасло 20мл.Аромамаркетинг –...   2674\n",
       "283448  Форма для выпечки печенья \"Орешки\".Орешки со с...  13554\n",
       "283449  Магнит символ Нового года-Тигренок/(по 3 шт в ...  11617\n",
       "283450  Рифленный нож / слайсер для фигурной нарезки, ...  14030\n",
       "283451         Набор воздушных шариков (5 шт в упаковке).  12604\n",
       "\n",
       "[283452 rows x 2 columns]"
      ]
     },
     "execution_count": 9,
     "metadata": {},
     "output_type": "execute_result"
    }
   ],
   "source": [
    "df = df_raw[['corpus', 'category_id']].rename(columns={'category_id': 'label'})\n",
    "df"
   ]
  },
  {
   "cell_type": "markdown",
   "metadata": {},
   "source": [
    "Getting closer to deep learning and encoding our class label."
   ]
  },
  {
   "cell_type": "code",
   "execution_count": 10,
   "metadata": {
    "execution": {
     "iopub.execute_input": "2022-06-19T17:50:43.557144Z",
     "iopub.status.busy": "2022-06-19T17:50:43.556549Z",
     "iopub.status.idle": "2022-06-19T17:50:47.153119Z",
     "shell.execute_reply": "2022-06-19T17:50:47.152286Z",
     "shell.execute_reply.started": "2022-06-19T17:50:43.557104Z"
    },
    "id": "xXmR6-gamhjf",
    "outputId": "c8cc565a-b3dd-4f4b-eaa1-e2146a5fd68e"
   },
   "outputs": [
    {
     "data": {
      "application/vnd.jupyter.widget-view+json": {
       "model_id": "a5035a1bea684a77975824fc8322c4f5",
       "version_major": 2,
       "version_minor": 0
      },
      "text/plain": [
       "Stringifying the column:   0%|          | 0/284 [00:00<?, ?ba/s]"
      ]
     },
     "metadata": {},
     "output_type": "display_data"
    },
    {
     "data": {
      "application/vnd.jupyter.widget-view+json": {
       "model_id": "9c9fcc4d511543959bda8b1a8e69de4f",
       "version_major": 2,
       "version_minor": 0
      },
      "text/plain": [
       "Casting to class labels:   0%|          | 0/284 [00:00<?, ?ba/s]"
      ]
     },
     "metadata": {},
     "output_type": "display_data"
    },
    {
     "data": {
      "application/vnd.jupyter.widget-view+json": {
       "model_id": "ec7ee0dd0c8b450b93d1b177f9f0a15b",
       "version_major": 2,
       "version_minor": 0
      },
      "text/plain": [
       "Casting the dataset:   0%|          | 0/29 [00:00<?, ?ba/s]"
      ]
     },
     "metadata": {},
     "output_type": "display_data"
    },
    {
     "data": {
      "text/plain": [
       "{'corpus': Value(dtype='string', id=None),\n",
       " 'label': ClassLabel(num_classes=1231, names=['11530', '11533', '11536', '11539', '11540', '11542', '11546', '11548', '11549', '11550', '11552', '11554', '11560', '11564', '11565', '11567', '11568', '11573', '11574', '11580', '11581', '11587', '11593', '11596', '11597', '11598', '11600', '11602', '11603', '11605', '11613', '11615', '11617', '11619', '11621', '11622', '11623', '11626', '11635', '11636', '11637', '11638', '11639', '11643', '11645', '11647', '11648', '11649', '11655', '11657', '11658', '11659', '11663', '11670', '11672', '11674', '11678', '11681', '11686', '11694', '11708', '11711', '11712', '11713', '11714', '11716', '11717', '11719', '11720', '11721', '11722', '11725', '11730', '11731', '11732', '11733', '11734', '11735', '11736', '11738', '11745', '11750', '11751', '11753', '11756', '11757', '11760', '11761', '11762', '11764', '11767', '11770', '11771', '11774', '11778', '11790', '11793', '11797', '11799', '11805', '11808', '11811', '11813', '11815', '11820', '11821', '11823', '11824', '11825', '11826', '11827', '11828', '11830', '11836', '11838', '11841', '11843', '11844', '11846', '11848', '11850', '11854', '11856', '11863', '11864', '11871', '11872', '11873', '11875', '11876', '11878', '11879', '11881', '11882', '11889', '11891', '11894', '11896', '11897', '11899', '11902', '11906', '11907', '11909', '11913', '11917', '11922', '11930', '11931', '11932', '11935', '11937', '11939', '11942', '11944', '11946', '11947', '11949', '11952', '11956', '11957', '11959', '11960', '11961', '11962', '11967', '11971', '11972', '11974', '11977', '11978', '11980', '11984', '11985', '11986', '11993', '11998', '11999', '12001', '12004', '12010', '12011', '12015', '12017', '12023', '12024', '12032', '12036', '12039', '12040', '12044', '12045', '12046', '12047', '12049', '12050', '12052', '12055', '12059', '12060', '12062', '12067', '12071', '12074', '12076', '12077', '12078', '12081', '12082', '12084', '12085', '12088', '12090', '12092', '12094', '12097', '12100', '12102', '12106', '12109', '12111', '12114', '12118', '12120', '12125', '12128', '12139', '12142', '12143', '12144', '12146', '12147', '12148', '12150', '12152', '12154', '12156', '12157', '12158', '12159', '12161', '12162', '12164', '12167', '12170', '12171', '12172', '12175', '12176', '12178', '12181', '12185', '12188', '12192', '12197', '12198', '12199', '12208', '12209', '12210', '12217', '12218', '12219', '12222', '12223', '12226', '12228', '12230', '12237', '12238', '12240', '12243', '12244', '12246', '12247', '12249', '12250', '12251', '12254', '12255', '12256', '12257', '12262', '12265', '12267', '12268', '12272', '12273', '12274', '12275', '12276', '12279', '12280', '12282', '12283', '12285', '12286', '12287', '12297', '12301', '12302', '12304', '12308', '12309', '12310', '12313', '12314', '12315', '12317', '12318', '12319', '12320', '12321', '12324', '12326', '12327', '12328', '12329', '12330', '12337', '12338', '12339', '12340', '12341', '12349', '12350', '12351', '12352', '12354', '12358', '12362', '12364', '12365', '12367', '12372', '12373', '12376', '12378', '12379', '12381', '12382', '12384', '12385', '12391', '12394', '12395', '12396', '12398', '12401', '12405', '12407', '12409', '12415', '12418', '12422', '12427', '12428', '12430', '12433', '12434', '12436', '12437', '12438', '12439', '12442', '12444', '12451', '12454', '12456', '12457', '12460', '12461', '12464', '12466', '12468', '12476', '12477', '12478', '12479', '12481', '12482', '12483', '12486', '12488', '12491', '12493', '12494', '12500', '12502', '12506', '12509', '12510', '12512', '12514', '12515', '12517', '12520', '12521', '12523', '12524', '12525', '12526', '12529', '12530', '12534', '12539', '12541', '12542', '12544', '12545', '12548', '12549', '12553', '12554', '12556', '12558', '12567', '12568', '12569', '12577', '12578', '12579', '12580', '12584', '12588', '12589', '12595', '12596', '12601', '12602', '12603', '12604', '12609', '12611', '12612', '12614', '12615', '12616', '12618', '12622', '12624', '12625', '12630', '12631', '12635', '12638', '12641', '12642', '12645', '12646', '12647', '12648', '12649', '12652', '12656', '12657', '12658', '12660', '12661', '12664', '12665', '12666', '12667', '12669', '12674', '12675', '12677', '12681', '12686', '12690', '12693', '12694', '12696', '12697', '12699', '12700', '12703', '12710', '12711', '12712', '12713', '12718', '12720', '12721', '12725', '12726', '12727', '12730', '12731', '12733', '12736', '12740', '12741', '12743', '12745', '12747', '12750', '12751', '12753', '12755', '12761', '12768', '12769', '12771', '12773', '12774', '12775', '12776', '12781', '12783', '12788', '12789', '12790', '12797', '12799', '12802', '12809', '12811', '12813', '12819', '12822', '12828', '12829', '12831', '12834', '12836', '12841', '12843', '12844', '12851', '12863', '12864', '12865', '12869', '12870', '12874', '12882', '12884', '12887', '12888', '12889', '12893', '12895', '12896', '12901', '12902', '12907', '12909', '12910', '12913', '12914', '12917', '12919', '12920', '12926', '12928', '12930', '12936', '12943', '12945', '12948', '12950', '12952', '12953', '12956', '12958', '12959', '12961', '12964', '12967', '12968', '12971', '12974', '12975', '12977', '12978', '12980', '12982', '12984', '12987', '12991', '12992', '12998', '13000', '13001', '13007', '13014', '13019', '13020', '13021', '13024', '13027', '13030', '13031', '13034', '13035', '13040', '13042', '13043', '13046', '13049', '13052', '13058', '13059', '13061', '13063', '13065', '13066', '13068', '13069', '13072', '13076', '13083', '13085', '13087', '13088', '13090', '13091', '13094', '13095', '13096', '13098', '13100', '13103', '13104', '13113', '13114', '13116', '13123', '13127', '13135', '13138', '13139', '13143', '13145', '13146', '13150', '13151', '13153', '13155', '13157', '13159', '13162', '13165', '13166', '13167', '13169', '13170', '13171', '13172', '13179', '13182', '13184', '13185', '13187', '13188', '13192', '13196', '13199', '13201', '13203', '13205', '13207', '13208', '13209', '13210', '13212', '13215', '13217', '13220', '13227', '13228', '13230', '13231', '13234', '13235', '13237', '13238', '13240', '13241', '13253', '13254', '13257', '13258', '13259', '13260', '13268', '13269', '13271', '13273', '13274', '13277', '13281', '13286', '13289', '13296', '13297', '13299', '13302', '13304', '13306', '13307', '13310', '13312', '13313', '13315', '13316', '13322', '13324', '13325', '13327', '13328', '13333', '13334', '13335', '13337', '13338', '13340', '13342', '13343', '13344', '13346', '13348', '13350', '13352', '13358', '13362', '13365', '13371', '13376', '13377', '13378', '13379', '13381', '13383', '13384', '13388', '13390', '13393', '13395', '13403', '13404', '13406', '13407', '13408', '13409', '13414', '13415', '13416', '13419', '13420', '13421', '13423', '13424', '13425', '13427', '13433', '13434', '13439', '13442', '13445', '13446', '13447', '13451', '13453', '13462', '13466', '13469', '13471', '13474', '13477', '13481', '13484', '13485', '13486', '13488', '13490', '13493', '13495', '13497', '13500', '13501', '13504', '13506', '13507', '13509', '13511', '13513', '13515', '13520', '13521', '13527', '13528', '13529', '13530', '13532', '13533', '13535', '13537', '13540', '13542', '13545', '13546', '13547', '13549', '13551', '13552', '13554', '13555', '13559', '13560', '13562', '13564', '13565', '13568', '13570', '13573', '13579', '13581', '13588', '13589', '13593', '13594', '13603', '13604', '13605', '13607', '13608', '13611', '13613', '13614', '13615', '13616', '13619', '13626', '13631', '13632', '13638', '13640', '13648', '13649', '13652', '13658', '13661', '13667', '13673', '13674', '13675', '13676', '13679', '13684', '13685', '13693', '13694', '13699', '13700', '13704', '13706', '13707', '13708', '13712', '13714', '13715', '13726', '13727', '13728', '13729', '13733', '13736', '13738', '13739', '13745', '13752', '13754', '13755', '13756', '13765', '13766', '13770', '13775', '13776', '13779', '13781', '13786', '13787', '13788', '13793', '13795', '13798', '13799', '13802', '13803', '13805', '13808', '13812', '13814', '13816', '13818', '13822', '13823', '13824', '13827', '13828', '13831', '13833', '13835', '13836', '13839', '13841', '13844', '13847', '13852', '13853', '13855', '13860', '13861', '13870', '13871', '13873', '13879', '13880', '13883', '13885', '13886', '13887', '13888', '13891', '13892', '13893', '13898', '13901', '13904', '13905', '13906', '13912', '13919', '13921', '13928', '13932', '13936', '13938', '13939', '13941', '13946', '13948', '13950', '13951', '13952', '13954', '13955', '13956', '13959', '13961', '13962', '13963', '13968', '13973', '13975', '13976', '13977', '13978', '13982', '13986', '13988', '13989', '13990', '13994', '13995', '13997', '14000', '14003', '14005', '14007', '14008', '14011', '14014', '14017', '14018', '14019', '14023', '14024', '14025', '14028', '14030', '14032', '14033', '14034', '14036', '14037', '14038', '14042', '14046', '14048', '14050', '14061', '14062', '14064', '14065', '14066', '14067', '14069', '14071', '14072', '14075', '14076', '14077', '14079', '14081', '14088', '14093', '14095', '14096', '14097', '14099', '14103', '14105', '14108', '14109', '14110', '14111', '14113', '14117', '14123', '14125', '14133', '14134', '14135', '14136', '14137', '14140', '14141', '14142', '14143', '14149', '14151', '14153', '14158', '14160', '14161', '14165', '14167', '14171', '14172', '14182', '14186', '14191', '14196', '14199', '14200', '14201', '14202', '14205', '14206', '14207', '14216', '14219', '14220', '14221', '14223', '14225', '14226', '14227', '14230', '14233', '14235', '14238', '14241', '14242', '14243', '14244', '14245', '14248', '14251', '14255', '14256', '14258', '14261', '14262', '14263', '14265', '14266', '14267', '14269', '14271', '14274', '14275', '14276', '14277', '14278', '14279', '14281', '14282', '14365', '14366', '14367', '14379', '14398', '14432', '14433', '14434', '14500', '14501', '14502', '14503', '14538', '14539', '14540', '14542', '14543', '14546', '14547', '14548', '14549', '14550', '14551', '14552', '14553', '14557', '14559', '2598', '2599', '2600', '2601', '2602', '2603', '2604', '2605', '2607', '2608', '2610', '2631', '2632', '2633', '2634', '2635', '2636', '2662', '2663', '2672', '2674', '2675', '2676', '2677', '2678', '2680', '2681', '2682', '2683', '2684', '2685', '2688', '2689', '2690', '2691', '2692', '2693', '2725', '2726', '2727', '2728', '2729', '2730', '2731', '2732', '2733', '2734', '2735', '2736', '2737', '2738', '2739', '2740', '2741', '2742', '2743', '2744', '2745', '2746', '2747', '2748', '2750', '2751', '2800', '2801', '2802', '2803', '2804', '2805', '2823', '2824', '2825', '2826', '2827', '2828', '2829', '2830', '2831', '2832', '2833', '2834', '2835', '2837', '2838', '2839', '2840', '2841', '2842', '2844', '2846', '2847', '2848', '2850', '2851', '2852', '2854', '2855', '2856', '2857', '2858', '2860', '2861', '2862', '2864', '2865', '2867', '2876', '2877', '2895', '2896', '2897', '2898'], id=None)}"
      ]
     },
     "execution_count": 10,
     "metadata": {},
     "output_type": "execute_result"
    }
   ],
   "source": [
    "dataset = Dataset.from_pandas(df)\n",
    "dataset = dataset.class_encode_column('label')\n",
    "dataset.features"
   ]
  },
  {
   "cell_type": "markdown",
   "metadata": {},
   "source": [
    "Data needs to be splitted in a stratified fashion (especially due to the noted labels imbalance)."
   ]
  },
  {
   "cell_type": "code",
   "execution_count": 13,
   "metadata": {
    "execution": {
     "iopub.execute_input": "2022-06-19T17:51:49.530546Z",
     "iopub.status.busy": "2022-06-19T17:51:49.530162Z",
     "iopub.status.idle": "2022-06-19T17:51:50.025333Z",
     "shell.execute_reply": "2022-06-19T17:51:50.024505Z",
     "shell.execute_reply.started": "2022-06-19T17:51:49.530512Z"
    },
    "id": "A6lZtCyao5NM",
    "outputId": "91eed6e2-6cb5-46a3-8a2d-1d89008f8bf2"
   },
   "outputs": [
    {
     "data": {
      "text/plain": [
       "DatasetDict({\n",
       "    train: Dataset({\n",
       "        features: ['corpus', 'label'],\n",
       "        num_rows: 226761\n",
       "    })\n",
       "    valid: Dataset({\n",
       "        features: ['corpus', 'label'],\n",
       "        num_rows: 56691\n",
       "    })\n",
       "})"
      ]
     },
     "execution_count": 13,
     "metadata": {},
     "output_type": "execute_result"
    }
   ],
   "source": [
    "indices = np.arange(len(df))\n",
    "# 80% train, 20% test + validation\n",
    "train_indices, test_indices = train_test_split(indices, test_size=0.2, random_state=SEED, stratify=df['label'])\n",
    "\n",
    "data = DatasetDict({\n",
    "    'train': dataset.select(train_indices),\n",
    "    'valid': dataset.select(test_indices)\n",
    "})\n",
    "\n",
    "data"
   ]
  },
  {
   "cell_type": "markdown",
   "metadata": {},
   "source": [
    "As a base model we'll use bert-base model pretrained on texts in russian (russian wiki + news data). Compromise of complexity and speed."
   ]
  },
  {
   "cell_type": "code",
   "execution_count": 14,
   "metadata": {
    "execution": {
     "iopub.execute_input": "2022-06-19T17:51:59.031086Z",
     "iopub.status.busy": "2022-06-19T17:51:59.030440Z",
     "iopub.status.idle": "2022-06-19T17:52:06.322258Z",
     "shell.execute_reply": "2022-06-19T17:52:06.321399Z",
     "shell.execute_reply.started": "2022-06-19T17:51:59.031033Z"
    },
    "id": "cfe6eacc"
   },
   "outputs": [
    {
     "data": {
      "application/vnd.jupyter.widget-view+json": {
       "model_id": "804ba6f80f59468184cb3ee0045687e0",
       "version_major": 2,
       "version_minor": 0
      },
      "text/plain": [
       "Downloading:   0%|          | 0.00/24.0 [00:00<?, ?B/s]"
      ]
     },
     "metadata": {},
     "output_type": "display_data"
    },
    {
     "data": {
      "application/vnd.jupyter.widget-view+json": {
       "model_id": "ffbc8bb7f8ac463aafe6fb45f2eafd9b",
       "version_major": 2,
       "version_minor": 0
      },
      "text/plain": [
       "Downloading:   0%|          | 0.00/642 [00:00<?, ?B/s]"
      ]
     },
     "metadata": {},
     "output_type": "display_data"
    },
    {
     "data": {
      "application/vnd.jupyter.widget-view+json": {
       "model_id": "26dc29671a07412f9f81806e5adbd3e1",
       "version_major": 2,
       "version_minor": 0
      },
      "text/plain": [
       "Downloading:   0%|          | 0.00/1.57M [00:00<?, ?B/s]"
      ]
     },
     "metadata": {},
     "output_type": "display_data"
    },
    {
     "data": {
      "application/vnd.jupyter.widget-view+json": {
       "model_id": "1c0cb6f91d324a009466234a52e0244e",
       "version_major": 2,
       "version_minor": 0
      },
      "text/plain": [
       "Downloading:   0%|          | 0.00/112 [00:00<?, ?B/s]"
      ]
     },
     "metadata": {},
     "output_type": "display_data"
    }
   ],
   "source": [
    "tokenizer = AutoTokenizer.from_pretrained('DeepPavlov/rubert-base-cased')\n",
    "checkpoint = 'DeepPavlov/rubert-base-cased'"
   ]
  },
  {
   "cell_type": "markdown",
   "metadata": {},
   "source": [
    "Let's finally tokenize our corpus."
   ]
  },
  {
   "cell_type": "code",
   "execution_count": 15,
   "metadata": {
    "execution": {
     "iopub.execute_input": "2022-06-19T17:52:06.324451Z",
     "iopub.status.busy": "2022-06-19T17:52:06.324095Z",
     "iopub.status.idle": "2022-06-19T17:52:33.282490Z",
     "shell.execute_reply": "2022-06-19T17:52:33.281619Z",
     "shell.execute_reply.started": "2022-06-19T17:52:06.324421Z"
    },
    "id": "4RpE4VNd8bUc",
    "outputId": "4be8e7a8-1514-45b1-d4f2-f1ddf9d25183"
   },
   "outputs": [
    {
     "data": {
      "application/vnd.jupyter.widget-view+json": {
       "model_id": "538ce83bf54e4c75af9ba14feaf5ece9",
       "version_major": 2,
       "version_minor": 0
      },
      "text/plain": [
       "  0%|          | 0/227 [00:00<?, ?ba/s]"
      ]
     },
     "metadata": {},
     "output_type": "display_data"
    },
    {
     "data": {
      "application/vnd.jupyter.widget-view+json": {
       "model_id": "988a82bad68d4d4fa890742c088a861b",
       "version_major": 2,
       "version_minor": 0
      },
      "text/plain": [
       "  0%|          | 0/57 [00:00<?, ?ba/s]"
      ]
     },
     "metadata": {},
     "output_type": "display_data"
    },
    {
     "data": {
      "text/plain": [
       "DatasetDict({\n",
       "    train: Dataset({\n",
       "        features: ['corpus', 'label', 'input_ids', 'token_type_ids', 'attention_mask'],\n",
       "        num_rows: 226761\n",
       "    })\n",
       "    valid: Dataset({\n",
       "        features: ['corpus', 'label', 'input_ids', 'token_type_ids', 'attention_mask'],\n",
       "        num_rows: 56691\n",
       "    })\n",
       "})"
      ]
     },
     "execution_count": 15,
     "metadata": {},
     "output_type": "execute_result"
    }
   ],
   "source": [
    "def tokenize(batch):\n",
    "    return tokenizer(batch['corpus'], truncation=True, max_length=512)\n",
    "\n",
    "tokenized_dataset = data.map(tokenize, batched=True)\n",
    "tokenized_dataset"
   ]
  },
  {
   "cell_type": "code",
   "execution_count": 16,
   "metadata": {
    "execution": {
     "iopub.execute_input": "2022-06-19T17:52:33.284451Z",
     "iopub.status.busy": "2022-06-19T17:52:33.284014Z",
     "iopub.status.idle": "2022-06-19T17:52:33.290604Z",
     "shell.execute_reply": "2022-06-19T17:52:33.289797Z",
     "shell.execute_reply.started": "2022-06-19T17:52:33.284412Z"
    },
    "id": "tP37tr3J86BY"
   },
   "outputs": [],
   "source": [
    "tokenized_dataset.set_format('torch', columns=['input_ids', 'attention_mask', 'label'])\n",
    "data_collator = DataCollatorWithPadding(tokenizer=tokenizer)"
   ]
  },
  {
   "cell_type": "markdown",
   "metadata": {},
   "source": [
    "# Model"
   ]
  },
  {
   "cell_type": "markdown",
   "metadata": {},
   "source": [
    "We're gonna need a classifier so let's build some dense layers upon our base-bert model. Now we're gonna use simple architecture just to see what this approach will lead us to: dropout for a little regularization -> FC -> batch normalization -> relu -> dropout again -> FC."
   ]
  },
  {
   "cell_type": "code",
   "execution_count": 62,
   "metadata": {
    "execution": {
     "iopub.execute_input": "2022-06-19T20:04:11.796620Z",
     "iopub.status.busy": "2022-06-19T20:04:11.796241Z",
     "iopub.status.idle": "2022-06-19T20:04:11.806938Z",
     "shell.execute_reply": "2022-06-19T20:04:11.805996Z",
     "shell.execute_reply.started": "2022-06-19T20:04:11.796571Z"
    },
    "id": "z5bCSpEP9RFM"
   },
   "outputs": [],
   "source": [
    "class RuBertClassifier(nn.Module):\n",
    "    def __init__(self, checkpoint, num_labels): \n",
    "        super(RuBertClassifier, self).__init__() \n",
    "        self.num_labels = num_labels \n",
    "\n",
    "        # load model with given checkpoint and extract its body\n",
    "        self.model = AutoModel.from_pretrained(checkpoint, config=AutoConfig.from_pretrained(checkpoint, output_attentions=True, output_hidden_states=True))\n",
    "\n",
    "#         for param in self.model.parameters():\n",
    "#             param.requires_grad = False\n",
    "\n",
    "        self.dropout = nn.Dropout(0.1) \n",
    "        self.classifier = nn.Sequential(\n",
    "            nn.Linear(768, 1024),\n",
    "            nn.BatchNorm1d(1024),\n",
    "            nn.ReLU(),\n",
    "            nn.Dropout(0.1),\n",
    "            nn.Linear(1024, num_labels)\n",
    "        )\n",
    "\n",
    "    def forward(self, input_ids=None, attention_mask=None, labels=None):\n",
    "        #Extract outputs from the body\n",
    "        outputs = self.model(input_ids=input_ids, attention_mask=attention_mask)\n",
    "\n",
    "        #Add custom layers\n",
    "        sequence_output = self.dropout(outputs[0]) # outputs[0]=last hidden state\n",
    "\n",
    "        logits = self.classifier(sequence_output[:, 0, :].view(-1, 768)) # calculate losses\n",
    "\n",
    "        loss = None\n",
    "        if labels is not None:\n",
    "            loss_fct = nn.CrossEntropyLoss()\n",
    "            loss = loss_fct(logits.view(-1, self.num_labels), labels.view(-1))\n",
    "\n",
    "        return TokenClassifierOutput(loss=loss, logits=logits, hidden_states=outputs.hidden_states, attentions=outputs.attentions)"
   ]
  },
  {
   "cell_type": "code",
   "execution_count": 69,
   "metadata": {
    "execution": {
     "iopub.execute_input": "2022-06-19T20:14:30.617191Z",
     "iopub.status.busy": "2022-06-19T20:14:30.616765Z",
     "iopub.status.idle": "2022-06-19T20:14:33.773847Z",
     "shell.execute_reply": "2022-06-19T20:14:33.773006Z",
     "shell.execute_reply.started": "2022-06-19T20:14:30.617154Z"
    },
    "id": "tL1Zue3--wxC",
    "outputId": "6bf274bb-61d0-49e7-9482-2a0e760272ff"
   },
   "outputs": [
    {
     "name": "stderr",
     "output_type": "stream",
     "text": [
      "Some weights of the model checkpoint at DeepPavlov/rubert-base-cased were not used when initializing BertModel: ['cls.predictions.transform.LayerNorm.weight', 'cls.predictions.transform.dense.bias', 'cls.predictions.decoder.bias', 'cls.predictions.transform.dense.weight', 'cls.predictions.decoder.weight', 'cls.seq_relationship.bias', 'cls.predictions.transform.LayerNorm.bias', 'cls.predictions.bias', 'cls.seq_relationship.weight']\n",
      "- This IS expected if you are initializing BertModel from the checkpoint of a model trained on another task or with another architecture (e.g. initializing a BertForSequenceClassification model from a BertForPreTraining model).\n",
      "- This IS NOT expected if you are initializing BertModel from the checkpoint of a model that you expect to be exactly identical (initializing a BertForSequenceClassification model from a BertForSequenceClassification model).\n"
     ]
    }
   ],
   "source": [
    "model = RuBertClassifier(checkpoint=checkpoint, num_labels=dataset.features['label'].num_classes).to(DEVICE)"
   ]
  },
  {
   "cell_type": "markdown",
   "metadata": {},
   "source": [
    "# Metric"
   ]
  },
  {
   "cell_type": "markdown",
   "metadata": {},
   "source": [
    "Now let's implement the hF metric as a class encapsulating its calculation."
   ]
  },
  {
   "cell_type": "code",
   "execution_count": 70,
   "metadata": {
    "execution": {
     "iopub.execute_input": "2022-06-19T20:14:33.775944Z",
     "iopub.status.busy": "2022-06-19T20:14:33.775555Z",
     "iopub.status.idle": "2022-06-19T20:14:33.785487Z",
     "shell.execute_reply": "2022-06-19T20:14:33.784671Z",
     "shell.execute_reply.started": "2022-06-19T20:14:33.775907Z"
    },
    "id": "fEwE3EsYD40b"
   },
   "outputs": [],
   "source": [
    "def intersect_paths(path_true, path_pred):\n",
    "    return len(set(path_true).intersection(set(path_pred)))\n",
    "\n",
    "\n",
    "class hFCalcer:\n",
    "    \"\"\"\n",
    "    Implementation of hierarchical F1-score calcer\n",
    "    \"\"\"\n",
    "    def __init__(self, labels_mapping):\n",
    "        \"\"\"\n",
    "        param labels_mapping (dict): should match model predictions and references to the real class labels\n",
    "        \"\"\"\n",
    "        self.true = []\n",
    "        self.pred = []\n",
    "        self.labels_mapping = labels_mapping\n",
    "\n",
    "    def add_batch(self, predictions, references):\n",
    "        \"\"\"\n",
    "        add data for future metric calculation\n",
    "        \"\"\"\n",
    "        self.pred.extend(get_path(self.labels_mapping[y]) for y in predictions)\n",
    "        self.true.extend(get_path(self.labels_mapping[y]) for y in references)\n",
    "\n",
    "    def reset(self):\n",
    "        \"\"\"\n",
    "        The method deletes all data stored after self.add_batch calls,\n",
    "        so that this data is not used in future metric calculation\n",
    "        \"\"\"\n",
    "        self.true = []\n",
    "        self.pred = []\n",
    "\n",
    "    def compute(self):\n",
    "        \"\"\"\n",
    "        Compute hF using all stored data at the moment\n",
    "        \"\"\"\n",
    "        sum_P, sum_T, sum_PT = 0, 0, 0\n",
    "    \n",
    "        for i in range(len(self.true)):\n",
    "            sum_T += len(self.true[i])\n",
    "            sum_P += len(self.pred[i])\n",
    "            sum_PT += intersect_paths(self.true[i], self.pred[i])\n",
    "            hP, hR = sum_PT / sum_P, sum_PT / sum_T\n",
    "            \n",
    "        return 2 * hP * hR / (hP + hR)"
   ]
  },
  {
   "cell_type": "code",
   "execution_count": 71,
   "metadata": {
    "execution": {
     "iopub.execute_input": "2022-06-19T20:14:33.787521Z",
     "iopub.status.busy": "2022-06-19T20:14:33.787030Z",
     "iopub.status.idle": "2022-06-19T20:14:33.797524Z",
     "shell.execute_reply": "2022-06-19T20:14:33.796762Z",
     "shell.execute_reply.started": "2022-06-19T20:14:33.787476Z"
    },
    "id": "rQBwe8UEF1-_"
   },
   "outputs": [],
   "source": [
    "labels_mapping = {idx: int(label) for idx, label in zip(range(dataset.features['label'].num_classes), dataset.features['label'].names)}\n",
    "\n",
    "metric = hFCalcer(labels_mapping)"
   ]
  },
  {
   "cell_type": "markdown",
   "metadata": {},
   "source": [
    "# Training"
   ]
  },
  {
   "cell_type": "code",
   "execution_count": 72,
   "metadata": {
    "execution": {
     "iopub.execute_input": "2022-06-19T20:14:36.853621Z",
     "iopub.status.busy": "2022-06-19T20:14:36.852724Z",
     "iopub.status.idle": "2022-06-19T20:14:36.859161Z",
     "shell.execute_reply": "2022-06-19T20:14:36.858384Z",
     "shell.execute_reply.started": "2022-06-19T20:14:36.853557Z"
    },
    "id": "ZdcdTde294YH"
   },
   "outputs": [],
   "source": [
    "train_dataloader = DataLoader(\n",
    "    tokenized_dataset['train'], shuffle=True, batch_size=32, collate_fn=data_collator\n",
    ")\n",
    "eval_dataloader = DataLoader(\n",
    "    tokenized_dataset['valid'], batch_size=32, collate_fn=data_collator\n",
    ")"
   ]
  },
  {
   "cell_type": "markdown",
   "metadata": {},
   "source": [
    "We will use adam with weight decay as our optimizer. Our dataset is big enough so the learning rate should not be very large. Also we will use linear learning rate scheduler here."
   ]
  },
  {
   "cell_type": "code",
   "execution_count": 73,
   "metadata": {
    "execution": {
     "iopub.execute_input": "2022-06-19T20:14:39.661426Z",
     "iopub.status.busy": "2022-06-19T20:14:39.660735Z",
     "iopub.status.idle": "2022-06-19T20:14:39.672232Z",
     "shell.execute_reply": "2022-06-19T20:14:39.671265Z",
     "shell.execute_reply.started": "2022-06-19T20:14:39.661386Z"
    },
    "id": "ALsPQp_A94Z6",
    "outputId": "efacca1e-19c0-42ad-bb6c-f5710b767ea3"
   },
   "outputs": [
    {
     "name": "stdout",
     "output_type": "stream",
     "text": [
      "42522\n"
     ]
    }
   ],
   "source": [
    "optimizer = AdamW(model.parameters(), lr=5e-5)\n",
    "\n",
    "num_epochs = 6\n",
    "num_training_steps = num_epochs * len(train_dataloader)\n",
    "lr_scheduler = get_scheduler(\n",
    "    'linear',\n",
    "    optimizer=optimizer,\n",
    "    num_warmup_steps=0,\n",
    "    num_training_steps=num_training_steps,\n",
    ")\n",
    "print(num_training_steps)"
   ]
  },
  {
   "cell_type": "markdown",
   "metadata": {},
   "source": [
    "So, we go directly to the training process. We're not gonna build any plots there (lazy), just print hF-score on validation dataset after each epoch."
   ]
  },
  {
   "cell_type": "code",
   "execution_count": 74,
   "metadata": {
    "execution": {
     "iopub.execute_input": "2022-06-19T20:14:41.556957Z",
     "iopub.status.busy": "2022-06-19T20:14:41.556029Z",
     "iopub.status.idle": "2022-06-19T23:56:49.589827Z",
     "shell.execute_reply": "2022-06-19T23:56:49.586391Z",
     "shell.execute_reply.started": "2022-06-19T20:14:41.556907Z"
    },
    "id": "iHPjlpjMAqXW",
    "outputId": "e0d1d84d-bdd3-48b7-bc16-9ded558bd898"
   },
   "outputs": [
    {
     "data": {
      "application/vnd.jupyter.widget-view+json": {
       "model_id": "eca99cf1547940c9875538b0e99390e9",
       "version_major": 2,
       "version_minor": 0
      },
      "text/plain": [
       "  0%|          | 0/42522 [00:00<?, ?it/s]"
      ]
     },
     "metadata": {},
     "output_type": "display_data"
    },
    {
     "data": {
      "application/vnd.jupyter.widget-view+json": {
       "model_id": "f5fab3624ac84d938a82bd1cad53a749",
       "version_major": 2,
       "version_minor": 0
      },
      "text/plain": [
       "  0%|          | 0/10632 [00:00<?, ?it/s]"
      ]
     },
     "metadata": {},
     "output_type": "display_data"
    },
    {
     "name": "stdout",
     "output_type": "stream",
     "text": [
      "0.9154884057683176\n",
      "0.9280912388790878\n",
      "0.9339476007286001\n",
      "0.9359963161268768\n",
      "0.9380690457186815\n",
      "0.9385110463415428\n"
     ]
    }
   ],
   "source": [
    "progress_bar_train = tqdm(range(num_training_steps))\n",
    "progress_bar_eval = tqdm(range(num_epochs * len(eval_dataloader)))\n",
    "\n",
    "for epoch in range(num_epochs):\n",
    "    model.train()\n",
    "    for batch in train_dataloader:\n",
    "        batch = {k: v.to(DEVICE) for k, v in batch.items()}\n",
    "        outputs = model(**batch)\n",
    "        loss = outputs.loss\n",
    "        loss.backward()\n",
    "\n",
    "        optimizer.step()\n",
    "        lr_scheduler.step()\n",
    "        optimizer.zero_grad()\n",
    "        progress_bar_train.update(1)\n",
    "\n",
    "    model.eval()\n",
    "    for batch in eval_dataloader:\n",
    "        batch = {k: v.to(DEVICE) for k, v in batch.items()}\n",
    "        with torch.no_grad():\n",
    "            outputs = model(**batch)\n",
    "        logits = outputs.logits\n",
    "        predictions = torch.argmax(logits, dim=-1)\n",
    "        metric.add_batch(predictions=predictions.detach().cpu().numpy().tolist(),\n",
    "                         references=batch['labels'].detach().cpu().numpy().tolist())\n",
    "        progress_bar_eval.update(1)\n",
    "\n",
    "    print(metric.compute())\n",
    "    metric.reset()"
   ]
  },
  {
   "cell_type": "code",
   "execution_count": 75,
   "metadata": {
    "execution": {
     "iopub.execute_input": "2022-06-19T23:56:49.597541Z",
     "iopub.status.busy": "2022-06-19T23:56:49.594919Z",
     "iopub.status.idle": "2022-06-19T23:56:51.414578Z",
     "shell.execute_reply": "2022-06-19T23:56:51.413698Z",
     "shell.execute_reply.started": "2022-06-19T23:56:49.597473Z"
    }
   },
   "outputs": [],
   "source": [
    "torch.save(model.state_dict(), './kazan_model')"
   ]
  },
  {
   "cell_type": "markdown",
   "metadata": {},
   "source": [
    "So, we see that we've got a pretty solid result after this simple pipeline. There are many possible ways to imporove this result, let's just bring them down there:\n",
    "1. Use numerical features. Obviously, this is not going to spoil the result, it just needs to be implemented.\n",
    "2. Strengthen training process: more epochs, larger model, more dense layers upon bert, etc.\n",
    "3. Presumably, SOTA-approach in this type of problem is to train a set of local classifiers on each category K to classify only in subcategories of K. However, this requires a lot of resources."
   ]
  },
  {
   "cell_type": "markdown",
   "metadata": {},
   "source": [
    "# Inference"
   ]
  },
  {
   "cell_type": "markdown",
   "metadata": {},
   "source": [
    "Let's use our model to make predictions on test samples. Sure, it would be better to train model on whole train dataset first, but time is so precious nowadays."
   ]
  },
  {
   "cell_type": "code",
   "execution_count": 78,
   "metadata": {
    "execution": {
     "iopub.execute_input": "2022-06-20T00:01:26.303594Z",
     "iopub.status.busy": "2022-06-20T00:01:26.302765Z",
     "iopub.status.idle": "2022-06-20T00:01:32.425621Z",
     "shell.execute_reply": "2022-06-20T00:01:32.424916Z",
     "shell.execute_reply.started": "2022-06-20T00:01:26.303551Z"
    }
   },
   "outputs": [
    {
     "data": {
      "application/vnd.jupyter.widget-view+json": {
       "model_id": "9a2d5882c441452ab5013b51f71840a1",
       "version_major": 2,
       "version_minor": 0
      },
      "text/plain": [
       "  0%|          | 0/71 [00:00<?, ?ba/s]"
      ]
     },
     "metadata": {},
     "output_type": "display_data"
    }
   ],
   "source": [
    "df_raw_test = pd.read_parquet('test.parquet')\n",
    "\n",
    "df_raw_test.fillna(value = '', inplace = True)\n",
    "df_raw_test['corpus'] = df_raw_test['title'] + '.' + df_raw_test['short_description']\n",
    "\n",
    "df_test = df_raw_test[['corpus']]\n",
    "\n",
    "dataset_test = Dataset.from_pandas(df_test)\n",
    "\n",
    "tokenized_dataset_test = dataset_test.map(tokenize, batched=True)\n",
    "\n",
    "tokenized_dataset_test.set_format('torch', columns=['input_ids', 'attention_mask'])\n",
    "\n",
    "test_dataloader = DataLoader(\n",
    "    tokenized_dataset_test, batch_size=32, collate_fn=data_collator\n",
    ")"
   ]
  },
  {
   "cell_type": "code",
   "execution_count": 85,
   "metadata": {
    "execution": {
     "iopub.execute_input": "2022-06-20T00:08:56.103399Z",
     "iopub.status.busy": "2022-06-20T00:08:56.103044Z",
     "iopub.status.idle": "2022-06-20T00:11:50.856097Z",
     "shell.execute_reply": "2022-06-20T00:11:50.855367Z",
     "shell.execute_reply.started": "2022-06-20T00:08:56.103369Z"
    }
   },
   "outputs": [
    {
     "data": {
      "application/vnd.jupyter.widget-view+json": {
       "model_id": "88240e695adf459a8ecf7e4b83631462",
       "version_major": 2,
       "version_minor": 0
      },
      "text/plain": [
       "  0%|          | 0/2215 [00:00<?, ?it/s]"
      ]
     },
     "metadata": {},
     "output_type": "display_data"
    }
   ],
   "source": [
    "test_preds = []\n",
    "progress_bar_test = tqdm(range(len(test_dataloader)))\n",
    "\n",
    "model.eval()\n",
    "with torch.no_grad():\n",
    "    for batch in test_dataloader:\n",
    "        batch = {k: v.to(DEVICE) for k, v in batch.items()}\n",
    "        logits = model(**batch).logits\n",
    "        preds_raw = torch.argmax(logits, dim=-1).detach().cpu().numpy()\n",
    "        test_preds.extend(labels_mapping[pred] for pred in preds_raw)\n",
    "        progress_bar_test.update(1)"
   ]
  },
  {
   "cell_type": "code",
   "execution_count": 86,
   "metadata": {
    "execution": {
     "iopub.execute_input": "2022-06-20T00:13:20.076044Z",
     "iopub.status.busy": "2022-06-20T00:13:20.075478Z",
     "iopub.status.idle": "2022-06-20T00:13:20.116623Z",
     "shell.execute_reply": "2022-06-20T00:13:20.115762Z",
     "shell.execute_reply.started": "2022-06-20T00:13:20.076009Z"
    }
   },
   "outputs": [
    {
     "data": {
      "text/html": [
       "<div>\n",
       "<style scoped>\n",
       "    .dataframe tbody tr th:only-of-type {\n",
       "        vertical-align: middle;\n",
       "    }\n",
       "\n",
       "    .dataframe tbody tr th {\n",
       "        vertical-align: top;\n",
       "    }\n",
       "\n",
       "    .dataframe thead th {\n",
       "        text-align: right;\n",
       "    }\n",
       "</style>\n",
       "<table border=\"1\" class=\"dataframe\">\n",
       "  <thead>\n",
       "    <tr style=\"text-align: right;\">\n",
       "      <th></th>\n",
       "      <th>id</th>\n",
       "      <th>predicted_category_id</th>\n",
       "    </tr>\n",
       "  </thead>\n",
       "  <tbody>\n",
       "    <tr>\n",
       "      <th>0</th>\n",
       "      <td>1070974</td>\n",
       "      <td>11574</td>\n",
       "    </tr>\n",
       "    <tr>\n",
       "      <th>1</th>\n",
       "      <td>450413</td>\n",
       "      <td>11878</td>\n",
       "    </tr>\n",
       "    <tr>\n",
       "      <th>2</th>\n",
       "      <td>126857</td>\n",
       "      <td>13299</td>\n",
       "    </tr>\n",
       "    <tr>\n",
       "      <th>3</th>\n",
       "      <td>1577569</td>\n",
       "      <td>13061</td>\n",
       "    </tr>\n",
       "    <tr>\n",
       "      <th>4</th>\n",
       "      <td>869328</td>\n",
       "      <td>12813</td>\n",
       "    </tr>\n",
       "    <tr>\n",
       "      <th>...</th>\n",
       "      <td>...</td>\n",
       "      <td>...</td>\n",
       "    </tr>\n",
       "    <tr>\n",
       "      <th>70859</th>\n",
       "      <td>967535</td>\n",
       "      <td>13143</td>\n",
       "    </tr>\n",
       "    <tr>\n",
       "      <th>70860</th>\n",
       "      <td>1488636</td>\n",
       "      <td>2674</td>\n",
       "    </tr>\n",
       "    <tr>\n",
       "      <th>70861</th>\n",
       "      <td>827510</td>\n",
       "      <td>13205</td>\n",
       "    </tr>\n",
       "    <tr>\n",
       "      <th>70862</th>\n",
       "      <td>529244</td>\n",
       "      <td>13069</td>\n",
       "    </tr>\n",
       "    <tr>\n",
       "      <th>70863</th>\n",
       "      <td>1400885</td>\n",
       "      <td>11597</td>\n",
       "    </tr>\n",
       "  </tbody>\n",
       "</table>\n",
       "<p>70864 rows × 2 columns</p>\n",
       "</div>"
      ],
      "text/plain": [
       "            id  predicted_category_id\n",
       "0      1070974                  11574\n",
       "1       450413                  11878\n",
       "2       126857                  13299\n",
       "3      1577569                  13061\n",
       "4       869328                  12813\n",
       "...        ...                    ...\n",
       "70859   967535                  13143\n",
       "70860  1488636                   2674\n",
       "70861   827510                  13205\n",
       "70862   529244                  13069\n",
       "70863  1400885                  11597\n",
       "\n",
       "[70864 rows x 2 columns]"
      ]
     },
     "execution_count": 86,
     "metadata": {},
     "output_type": "execute_result"
    }
   ],
   "source": [
    "df_result = pd.DataFrame({'id': df_raw_test['id'].values, 'predicted_category_id': test_preds})\n",
    "df_result"
   ]
  },
  {
   "cell_type": "code",
   "execution_count": 87,
   "metadata": {
    "execution": {
     "iopub.execute_input": "2022-06-20T00:15:52.654477Z",
     "iopub.status.busy": "2022-06-20T00:15:52.654130Z",
     "iopub.status.idle": "2022-06-20T00:15:52.676539Z",
     "shell.execute_reply": "2022-06-20T00:15:52.675808Z",
     "shell.execute_reply.started": "2022-06-20T00:15:52.654448Z"
    }
   },
   "outputs": [],
   "source": [
    "df_result.to_parquet('result.parquet')"
   ]
  },
  {
   "cell_type": "markdown",
   "metadata": {},
   "source": [
    "# Fun"
   ]
  },
  {
   "cell_type": "markdown",
   "metadata": {},
   "source": [
    "Let's also display our predictions in a more interpretable way and check whether they fit the descriptions or not."
   ]
  },
  {
   "cell_type": "code",
   "execution_count": 95,
   "metadata": {
    "execution": {
     "iopub.execute_input": "2022-06-20T00:31:49.049508Z",
     "iopub.status.busy": "2022-06-20T00:31:49.048889Z",
     "iopub.status.idle": "2022-06-20T00:31:49.110171Z",
     "shell.execute_reply": "2022-06-20T00:31:49.109173Z",
     "shell.execute_reply.started": "2022-06-20T00:31:49.049469Z"
    }
   },
   "outputs": [
    {
     "name": "stdout",
     "output_type": "stream",
     "text": [
      "Description:  Шапка-бини, черный цвет.Остромодная шапка-бини\n",
      "Predicted Path:  Все категории -> Аксессуары -> Женские аксессуары -> Головные уборы -> Шапки\n",
      "\n",
      "Description:  Конверт-открытка для денег, набор открыток (комплект 9 шт).\n",
      "Predicted Path:  Все категории -> Товары для дома -> Товары для праздников -> Подарочная упаковка, открытки -> Открытки\n",
      "\n",
      "Description:  Сумка через плечо с вышивкой планеты.\n",
      "Predicted Path:  Все категории -> Аксессуары -> Женские аксессуары -> Сумки и рюкзаки -> Сумки\n",
      "\n",
      "Description:  Тушь для ресниц Cabaret.\n",
      "Predicted Path:  Все категории -> Красота -> Макияж -> Глаза -> Туши для ресниц\n",
      "\n",
      "Description:  Пульверизатор Power, 0.5 л.\n",
      "Predicted Path:  Все категории -> Товары для дома -> Товары для комнатных растений -> Лейки и опрыскиватели\n",
      "\n",
      "Description:  Комплект майка  и трусы боксеры для мальчика. (размер 98,104,110,116).#длядетей#пижама#длямальчика#нижниебельё\n",
      "Predicted Path:  Все категории -> Одежда -> Одежда для мальчиков -> Белье и пляжная одежда -> Комплекты\n",
      "\n",
      "Description:  Батарейка аккумуляторная GP \"Крона\" 20R8H, 6F22, 200mAh, 1 штука.\n",
      "Predicted Path:  Все категории -> Электроника -> Аксессуары для электроники -> Аккумуляторные батарейки\n",
      "\n",
      "Description:  Ручная соковыжималка для цитрусовых, 0,5 л.Ручная соковыжималка для цитрусовых, 0,5 л\n",
      "Predicted Path:  Все категории -> Товары для дома -> Товары для кухни -> Измельчители и соковыжималки -> Соковыжималки\n",
      "\n",
      "Description:  Держатель для туалетной бумаги с корзиной \"Сафьян\" Raindrops.\n",
      "Predicted Path:  Все категории -> Товары для дома -> Хозяйственные товары -> Аксессуары для ванной -> Крючки и держатели\n",
      "\n",
      "Description:  Носки женские, набор носков 6 пар Веселый носочник Следки Цветные р 36-41.\n",
      "Predicted Path:  Все категории -> Одежда -> Женская одежда -> Колготки, носки, чулки -> Носки и подследники\n",
      "\n"
     ]
    }
   ],
   "source": [
    "def get_text_path(category):\n",
    "    path = []\n",
    "    while category: \n",
    "        path.append(('').join(categories_tree[categories_tree['id'] == category]['title']))\n",
    "        category = int(categories_tree[categories_tree['id'] == category]['parent_id'])\n",
    "    return ' -> '.join(path[::-1])\n",
    "\n",
    "\n",
    "def display_results(df, df_preds, samples_count=10, with_target=False):\n",
    "    df_sample = df.sample(10)\n",
    "    df_sample = df_sample.merge(df_preds, on='id')\n",
    "    for i in range(10):\n",
    "        print('Description: ',df_sample['corpus'].values[i])\n",
    "        if with_target:\n",
    "            print('Real path: ', get_text_path(df_sample['category_id'].values[i]))\n",
    "        print('Predicted Path: ', get_text_path(df_sample['pred'].values[i]))\n",
    "        print()\n",
    "\n",
    "display_results(df_raw_test, df_result)"
   ]
  },
  {
   "cell_type": "markdown",
   "metadata": {},
   "source": [
    "Looks fine!"
   ]
  }
 ],
 "metadata": {
  "kernelspec": {
   "display_name": "Python 3",
   "language": "python",
   "name": "python3"
  },
  "language_info": {
   "codemirror_mode": {
    "name": "ipython",
    "version": 3
   },
   "file_extension": ".py",
   "mimetype": "text/x-python",
   "name": "python",
   "nbconvert_exporter": "python",
   "pygments_lexer": "ipython3",
   "version": "3.6.9"
  },
  "varInspector": {
   "cols": {
    "lenName": 16,
    "lenType": 16,
    "lenVar": 40
   },
   "kernels_config": {
    "python": {
     "delete_cmd_postfix": "",
     "delete_cmd_prefix": "del ",
     "library": "var_list.py",
     "varRefreshCmd": "print(var_dic_list())"
    },
    "r": {
     "delete_cmd_postfix": ") ",
     "delete_cmd_prefix": "rm(",
     "library": "var_list.r",
     "varRefreshCmd": "cat(var_dic_list()) "
    }
   },
   "types_to_exclude": [
    "module",
    "function",
    "builtin_function_or_method",
    "instance",
    "_Feature"
   ],
   "window_display": false
  }
 },
 "nbformat": 4,
 "nbformat_minor": 4
}
